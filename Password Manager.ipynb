{
 "cells": [
  {
   "cell_type": "code",
   "execution_count": null,
   "id": "cfb885c5",
   "metadata": {},
   "outputs": [],
   "source": [
    "\n",
    "from cryptography.fernet import Fernet\n",
    "\n",
    "'''\n",
    "def write_key():\n",
    "    key = Fernet.generate_key()\n",
    "    with open(\"key.key\", \"wb\") as key_file:\n",
    "        key_file.write(key)'''\n",
    "\n",
    "\n",
    "def load_key():\n",
    "    file = open(\"key.key\", \"rb\")\n",
    "    key = file.read()\n",
    "    file.close()\n",
    "    return key\n",
    "\n",
    "\n",
    "key = load_key()\n",
    "fer = Fernet(key)\n",
    "\n",
    "\n",
    "def view():\n",
    "    with open('passwords.txt', 'r') as f:\n",
    "        for line in f.readlines():\n",
    "            data = line.rstrip()\n",
    "            user, passw = data.split(\"|\")\n",
    "            print(\"User:\", user, \"| Password:\",\n",
    "                  fer.decrypt(passw.encode()).decode())\n",
    "\n",
    "\n",
    "def add():\n",
    "    name = input('Account Name: ')\n",
    "    pwd = input(\"Password: \")\n",
    "\n",
    "    with open('passwords.txt', 'a') as f:\n",
    "        f.write(name + \"|\" + fer.encrypt(pwd.encode()).decode() + \"\\n\")\n",
    "\n",
    "\n",
    "while True:\n",
    "    mode = input(\n",
    "        \"Would you like to add a new password or view existing ones (view, add), press q to quit? \").lower()\n",
    "    if mode == \"q\":\n",
    "        break\n",
    "\n",
    "    if mode == \"view\":\n",
    "        view()\n",
    "    elif mode == \"add\":\n",
    "        add()\n",
    "    else:\n",
    "        print(\"Invalid mode.\")\n",
    "        continue\n"
   ]
  }
 ],
 "metadata": {
  "kernelspec": {
   "display_name": "Python 3 (ipykernel)",
   "language": "python",
   "name": "python3"
  },
  "language_info": {
   "codemirror_mode": {
    "name": "ipython",
    "version": 3
   },
   "file_extension": ".py",
   "mimetype": "text/x-python",
   "name": "python",
   "nbconvert_exporter": "python",
   "pygments_lexer": "ipython3",
   "version": "3.11.5"
  }
 },
 "nbformat": 4,
 "nbformat_minor": 5
}
